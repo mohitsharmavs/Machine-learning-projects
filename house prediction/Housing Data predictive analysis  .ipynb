{
 "cells": [
  {
   "cell_type": "markdown",
   "metadata": {},
   "source": [
    "### Get Data"
   ]
  },
  {
   "cell_type": "code",
   "execution_count": 1,
   "metadata": {},
   "outputs": [],
   "source": [
    "import pandas as pd\n",
    "import seaborn as sns\n",
    "import matplotlib.pyplot as plt\n",
    "import numpy as np\n",
    "%matplotlib inline\n",
    "\n",
    "plt.rcParams['figure.dpi'] = 150\n",
    "housing = pd.read_csv('housing.csv')"
   ]
  },
  {
   "cell_type": "markdown",
   "metadata": {},
   "source": [
    "# Sampling "
   ]
  },
  {
   "cell_type": "code",
   "execution_count": 2,
   "metadata": {},
   "outputs": [
    {
     "data": {
      "text/html": [
       "<div>\n",
       "<style scoped>\n",
       "    .dataframe tbody tr th:only-of-type {\n",
       "        vertical-align: middle;\n",
       "    }\n",
       "\n",
       "    .dataframe tbody tr th {\n",
       "        vertical-align: top;\n",
       "    }\n",
       "\n",
       "    .dataframe thead th {\n",
       "        text-align: right;\n",
       "    }\n",
       "</style>\n",
       "<table border=\"1\" class=\"dataframe\">\n",
       "  <thead>\n",
       "    <tr style=\"text-align: right;\">\n",
       "      <th></th>\n",
       "      <th>longitude</th>\n",
       "      <th>latitude</th>\n",
       "      <th>housing_median_age</th>\n",
       "      <th>total_rooms</th>\n",
       "      <th>total_bedrooms</th>\n",
       "      <th>population</th>\n",
       "      <th>households</th>\n",
       "      <th>median_income</th>\n",
       "      <th>median_house_value</th>\n",
       "      <th>ocean_proximity</th>\n",
       "    </tr>\n",
       "  </thead>\n",
       "  <tbody>\n",
       "    <tr>\n",
       "      <th>0</th>\n",
       "      <td>-122.23</td>\n",
       "      <td>37.88</td>\n",
       "      <td>41.0</td>\n",
       "      <td>880.0</td>\n",
       "      <td>129.0</td>\n",
       "      <td>322.0</td>\n",
       "      <td>126.0</td>\n",
       "      <td>8.3252</td>\n",
       "      <td>452600.0</td>\n",
       "      <td>NEAR BAY</td>\n",
       "    </tr>\n",
       "    <tr>\n",
       "      <th>1</th>\n",
       "      <td>-122.22</td>\n",
       "      <td>37.86</td>\n",
       "      <td>21.0</td>\n",
       "      <td>7099.0</td>\n",
       "      <td>1106.0</td>\n",
       "      <td>2401.0</td>\n",
       "      <td>1138.0</td>\n",
       "      <td>8.3014</td>\n",
       "      <td>358500.0</td>\n",
       "      <td>NEAR BAY</td>\n",
       "    </tr>\n",
       "    <tr>\n",
       "      <th>2</th>\n",
       "      <td>-122.24</td>\n",
       "      <td>37.85</td>\n",
       "      <td>52.0</td>\n",
       "      <td>1467.0</td>\n",
       "      <td>190.0</td>\n",
       "      <td>496.0</td>\n",
       "      <td>177.0</td>\n",
       "      <td>7.2574</td>\n",
       "      <td>352100.0</td>\n",
       "      <td>NEAR BAY</td>\n",
       "    </tr>\n",
       "    <tr>\n",
       "      <th>3</th>\n",
       "      <td>-122.25</td>\n",
       "      <td>37.85</td>\n",
       "      <td>52.0</td>\n",
       "      <td>1274.0</td>\n",
       "      <td>235.0</td>\n",
       "      <td>558.0</td>\n",
       "      <td>219.0</td>\n",
       "      <td>5.6431</td>\n",
       "      <td>341300.0</td>\n",
       "      <td>NEAR BAY</td>\n",
       "    </tr>\n",
       "    <tr>\n",
       "      <th>4</th>\n",
       "      <td>-122.25</td>\n",
       "      <td>37.85</td>\n",
       "      <td>52.0</td>\n",
       "      <td>1627.0</td>\n",
       "      <td>280.0</td>\n",
       "      <td>565.0</td>\n",
       "      <td>259.0</td>\n",
       "      <td>3.8462</td>\n",
       "      <td>342200.0</td>\n",
       "      <td>NEAR BAY</td>\n",
       "    </tr>\n",
       "  </tbody>\n",
       "</table>\n",
       "</div>"
      ],
      "text/plain": [
       "   longitude  latitude  housing_median_age  total_rooms  total_bedrooms  \\\n",
       "0    -122.23     37.88                41.0        880.0           129.0   \n",
       "1    -122.22     37.86                21.0       7099.0          1106.0   \n",
       "2    -122.24     37.85                52.0       1467.0           190.0   \n",
       "3    -122.25     37.85                52.0       1274.0           235.0   \n",
       "4    -122.25     37.85                52.0       1627.0           280.0   \n",
       "\n",
       "   population  households  median_income  median_house_value ocean_proximity  \n",
       "0       322.0       126.0         8.3252            452600.0        NEAR BAY  \n",
       "1      2401.0      1138.0         8.3014            358500.0        NEAR BAY  \n",
       "2       496.0       177.0         7.2574            352100.0        NEAR BAY  \n",
       "3       558.0       219.0         5.6431            341300.0        NEAR BAY  \n",
       "4       565.0       259.0         3.8462            342200.0        NEAR BAY  "
      ]
     },
     "execution_count": 2,
     "metadata": {},
     "output_type": "execute_result"
    }
   ],
   "source": [
    "housing.head()"
   ]
  },
  {
   "cell_type": "code",
   "execution_count": 3,
   "metadata": {},
   "outputs": [
    {
     "name": "stdout",
     "output_type": "stream",
     "text": [
      "3    35.058140\n",
      "2    31.884690\n",
      "4    17.630814\n",
      "5    11.443798\n",
      "1     3.982558\n",
      "Name: income_cat, dtype: float64\n",
      "3    35.053295\n",
      "2    31.879845\n",
      "4    17.635659\n",
      "5    11.458333\n",
      "1     3.972868\n",
      "Name: income_cat, dtype: float64\n"
     ]
    }
   ],
   "source": [
    "from sklearn.model_selection import StratifiedShuffleSplit\n",
    "housing['income_cat'] = pd.cut( housing['median_income'],  \n",
    "                              bins = [ 0, 1.5, 3.0, 4.5, 6.0, np.inf],\n",
    "                              labels = [1, 2, 3, 4, 5])\n",
    "split = StratifiedShuffleSplit(n_splits=1, test_size=0.2, random_state=42) \n",
    "for train_index, test_index in  split.split(housing, housing['income_cat']):\n",
    "    strat_train_set = housing.loc[train_index]\n",
    "    strat_test_set = housing.loc[test_index]\n",
    "print((housing['income_cat'].value_counts() / len(housing))*100)\n",
    "print((strat_test_set['income_cat'].value_counts() / len(strat_test_set) )*100)"
   ]
  },
  {
   "cell_type": "code",
   "execution_count": 4,
   "metadata": {},
   "outputs": [],
   "source": [
    "for set_ in (strat_train_set, strat_test_set):\n",
    "    set_.drop('income_cat', axis=1, inplace=True)\n",
    "    "
   ]
  },
  {
   "cell_type": "code",
   "execution_count": 5,
   "metadata": {},
   "outputs": [],
   "source": [
    "housing = strat_train_set.copy()"
   ]
  },
  {
   "cell_type": "markdown",
   "metadata": {},
   "source": [
    "#### Explore Data"
   ]
  },
  {
   "cell_type": "code",
   "execution_count": 6,
   "metadata": {},
   "outputs": [
    {
     "data": {
      "image/png": "[encoded data removed]",
      "text/plain": [
       "<Figure size 900x600 with 2 Axes>"
      ]
     },
     "metadata": {
      "needs_background": "light"
     },
     "output_type": "display_data"
    }
   ],
   "source": [
    "plt.scatter('longitude', 'latitude', data=housing,\n",
    "           alpha=0.3, c='median_house_value', cmap='jet',\n",
    "           s=housing[\"population\"]/100)\n",
    "plt.colorbar(label='Median House Value')\n",
    "plt.xlabel('Longitude')\n",
    "plt.ylabel('Latitude')\n",
    "plt.title(\"Insights from Data\")\n",
    "plt.show()"
   ]
  },
  {
   "cell_type": "code",
   "execution_count": 7,
   "metadata": {},
   "outputs": [
    {
     "data": {
      "text/plain": [
       "median_house_value    1.000000\n",
       "median_income         0.687160\n",
       "total_rooms           0.135097\n",
       "housing_median_age    0.114110\n",
       "households            0.064506\n",
       "total_bedrooms        0.047689\n",
       "population           -0.026920\n",
       "longitude            -0.047432\n",
       "latitude             -0.142724\n",
       "Name: median_house_value, dtype: float64"
      ]
     },
     "execution_count": 7,
     "metadata": {},
     "output_type": "execute_result"
    }
   ],
   "source": [
    "corr_matrix = housing.corr()\n",
    "corr_matrix['median_house_value'].sort_values(ascending=False)"
   ]
  },
  {
   "cell_type": "markdown",
   "metadata": {},
   "source": [
    "### Data Preprocessing"
   ]
  },
  {
   "cell_type": "code",
   "execution_count": 8,
   "metadata": {},
   "outputs": [
    {
     "data": {
      "text/plain": [
       "Index(['longitude', 'latitude', 'housing_median_age', 'total_rooms',\n",
       "       'total_bedrooms', 'population', 'households', 'median_income',\n",
       "       'median_house_value', 'ocean_proximity'],\n",
       "      dtype='object')"
      ]
     },
     "execution_count": 8,
     "metadata": {},
     "output_type": "execute_result"
    }
   ],
   "source": [
    "housing.columns"
   ]
  },
  {
   "cell_type": "code",
   "execution_count": 9,
   "metadata": {},
   "outputs": [],
   "source": [
    "housing_num = housing.drop('ocean_proximity', axis=1) # numerical \n",
    "housing_cat = housing[ [ 'ocean_proximity'] ] # categorical "
   ]
  },
  {
   "cell_type": "code",
   "execution_count": 10,
   "metadata": {},
   "outputs": [],
   "source": [
    "from sklearn.pipeline import Pipeline\n",
    "from sklearn.impute import SimpleImputer\n",
    "from sklearn.preprocessing import StandardScaler\n",
    "from sklearn.preprocessing import OneHotEncoder\n",
    "from sklearn.base import BaseEstimator, TransformerMixin\n",
    "\n",
    "rooms_ix, bedrooms_ix, population_ix, households_ix = 3, 4, 5, 6\n",
    "\n",
    "class CombinedAttributeAdder(BaseEstimator, TransformerMixin):\n",
    "    def __init__(self, add_bedrooms_per_room=True):\n",
    "        self.add_bedrooms_per_room = add_bedrooms_per_room\n",
    "    def fit(self, X, y=None):\n",
    "        return self\n",
    "    def transform(self, X, y=None):\n",
    "        rooms_per_household = X[:, rooms_ix] / X[:, households_ix]\n",
    "        population_per_household = X[:, population_ix ] / X[:, households_ix]\n",
    "        if self.add_bedrooms_per_room:\n",
    "            bedrooms_per_room = X[:, bedrooms_ix] / X[:, rooms_ix]\n",
    "            return np.c_[X, rooms_per_household, population_per_household, bedrooms_per_room]\n",
    "        else:\n",
    "            return np.c_[X, rooms_per_household, population_per_household]\n",
    "        \n",
    "    def fit_transform(self, X, y=None):\n",
    "        self.fit(X, y)\n",
    "        return self.transform(X, y)"
   ]
  },
  {
   "cell_type": "code",
   "execution_count": 11,
   "metadata": {},
   "outputs": [],
   "source": [
    "num_pipeline = Pipeline(\n",
    "    [\n",
    "        ('imputer', SimpleImputer(strategy='median')),\n",
    "        ('attributes_adder', CombinedAttributeAdder()),\n",
    "        ('std_scaler', StandardScaler()),\n",
    "    ]\n",
    ")"
   ]
  },
  {
   "cell_type": "code",
   "execution_count": 12,
   "metadata": {},
   "outputs": [],
   "source": [
    "from sklearn.compose import ColumnTransformer"
   ]
  },
  {
   "cell_type": "code",
   "execution_count": 13,
   "metadata": {},
   "outputs": [],
   "source": [
    "num_attribs = list(housing_num.columns)\n",
    "num_attribs.remove('median_house_value')\n",
    "cat_attribs = [\"ocean_proximity\"]"
   ]
  },
  {
   "cell_type": "code",
   "execution_count": 14,
   "metadata": {},
   "outputs": [],
   "source": [
    "housing_labels = housing['median_house_value']\n",
    "housing_features = housing.drop('median_house_value', axis=1)"
   ]
  },
  {
   "cell_type": "code",
   "execution_count": 15,
   "metadata": {},
   "outputs": [],
   "source": [
    "full_pipeline =  ColumnTransformer([\n",
    "    (\"num\", num_pipeline, num_attribs),\n",
    "    (\"cat\", OneHotEncoder(), cat_attribs)\n",
    "])\n",
    "\n",
    "# (\"drop\", \"drop\", ['a', 'b', 'c', 'd'])"
   ]
  },
  {
   "cell_type": "code",
   "execution_count": 16,
   "metadata": {},
   "outputs": [
    {
     "data": {
      "text/html": [
       "<div>\n",
       "<style scoped>\n",
       "    .dataframe tbody tr th:only-of-type {\n",
       "        vertical-align: middle;\n",
       "    }\n",
       "\n",
       "    .dataframe tbody tr th {\n",
       "        vertical-align: top;\n",
       "    }\n",
       "\n",
       "    .dataframe thead th {\n",
       "        text-align: right;\n",
       "    }\n",
       "</style>\n",
       "<table border=\"1\" class=\"dataframe\">\n",
       "  <thead>\n",
       "    <tr style=\"text-align: right;\">\n",
       "      <th></th>\n",
       "      <th>longitude</th>\n",
       "      <th>latitude</th>\n",
       "      <th>housing_median_age</th>\n",
       "      <th>total_rooms</th>\n",
       "      <th>total_bedrooms</th>\n",
       "      <th>population</th>\n",
       "      <th>households</th>\n",
       "      <th>median_income</th>\n",
       "      <th>rooms_per_household</th>\n",
       "      <th>population_per_household</th>\n",
       "      <th>bedrooms_per_room</th>\n",
       "      <th>&lt;1H OCEAN</th>\n",
       "      <th>INLAND</th>\n",
       "      <th>ISLAND</th>\n",
       "      <th>NEAR BAY</th>\n",
       "      <th>NEAR OCEAN</th>\n",
       "    </tr>\n",
       "  </thead>\n",
       "  <tbody>\n",
       "    <tr>\n",
       "      <th>0</th>\n",
       "      <td>-1.156043</td>\n",
       "      <td>0.771950</td>\n",
       "      <td>0.743331</td>\n",
       "      <td>-0.493234</td>\n",
       "      <td>-0.445438</td>\n",
       "      <td>-0.636211</td>\n",
       "      <td>-0.420698</td>\n",
       "      <td>-0.614937</td>\n",
       "      <td>-0.312055</td>\n",
       "      <td>-0.086499</td>\n",
       "      <td>0.155318</td>\n",
       "      <td>1.0</td>\n",
       "      <td>0.0</td>\n",
       "      <td>0.0</td>\n",
       "      <td>0.0</td>\n",
       "      <td>0.0</td>\n",
       "    </tr>\n",
       "    <tr>\n",
       "      <th>1</th>\n",
       "      <td>-1.176025</td>\n",
       "      <td>0.659695</td>\n",
       "      <td>-1.165317</td>\n",
       "      <td>-0.908967</td>\n",
       "      <td>-1.036928</td>\n",
       "      <td>-0.998331</td>\n",
       "      <td>-1.022227</td>\n",
       "      <td>1.336459</td>\n",
       "      <td>0.217683</td>\n",
       "      <td>-0.033534</td>\n",
       "      <td>-0.836289</td>\n",
       "      <td>1.0</td>\n",
       "      <td>0.0</td>\n",
       "      <td>0.0</td>\n",
       "      <td>0.0</td>\n",
       "      <td>0.0</td>\n",
       "    </tr>\n",
       "    <tr>\n",
       "      <th>2</th>\n",
       "      <td>1.186849</td>\n",
       "      <td>-1.342183</td>\n",
       "      <td>0.186642</td>\n",
       "      <td>-0.313660</td>\n",
       "      <td>-0.153345</td>\n",
       "      <td>-0.433639</td>\n",
       "      <td>-0.093318</td>\n",
       "      <td>-0.532046</td>\n",
       "      <td>-0.465315</td>\n",
       "      <td>-0.092405</td>\n",
       "      <td>0.422200</td>\n",
       "      <td>0.0</td>\n",
       "      <td>0.0</td>\n",
       "      <td>0.0</td>\n",
       "      <td>0.0</td>\n",
       "      <td>1.0</td>\n",
       "    </tr>\n",
       "    <tr>\n",
       "      <th>3</th>\n",
       "      <td>-0.017068</td>\n",
       "      <td>0.313576</td>\n",
       "      <td>-0.290520</td>\n",
       "      <td>-0.362762</td>\n",
       "      <td>-0.396756</td>\n",
       "      <td>0.036041</td>\n",
       "      <td>-0.383436</td>\n",
       "      <td>-1.045566</td>\n",
       "      <td>-0.079661</td>\n",
       "      <td>0.089736</td>\n",
       "      <td>-0.196453</td>\n",
       "      <td>0.0</td>\n",
       "      <td>1.0</td>\n",
       "      <td>0.0</td>\n",
       "      <td>0.0</td>\n",
       "      <td>0.0</td>\n",
       "    </tr>\n",
       "    <tr>\n",
       "      <th>4</th>\n",
       "      <td>0.492474</td>\n",
       "      <td>-0.659299</td>\n",
       "      <td>-0.926736</td>\n",
       "      <td>1.856193</td>\n",
       "      <td>2.412211</td>\n",
       "      <td>2.724154</td>\n",
       "      <td>2.570975</td>\n",
       "      <td>-0.441437</td>\n",
       "      <td>-0.357834</td>\n",
       "      <td>-0.004194</td>\n",
       "      <td>0.269928</td>\n",
       "      <td>1.0</td>\n",
       "      <td>0.0</td>\n",
       "      <td>0.0</td>\n",
       "      <td>0.0</td>\n",
       "      <td>0.0</td>\n",
       "    </tr>\n",
       "  </tbody>\n",
       "</table>\n",
       "</div>"
      ],
      "text/plain": [
       "   longitude  latitude  housing_median_age  total_rooms  total_bedrooms  \\\n",
       "0  -1.156043  0.771950            0.743331    -0.493234       -0.445438   \n",
       "1  -1.176025  0.659695           -1.165317    -0.908967       -1.036928   \n",
       "2   1.186849 -1.342183            0.186642    -0.313660       -0.153345   \n",
       "3  -0.017068  0.313576           -0.290520    -0.362762       -0.396756   \n",
       "4   0.492474 -0.659299           -0.926736     1.856193        2.412211   \n",
       "\n",
       "   population  households  median_income  rooms_per_household  \\\n",
       "0   -0.636211   -0.420698      -0.614937            -0.312055   \n",
       "1   -0.998331   -1.022227       1.336459             0.217683   \n",
       "2   -0.433639   -0.093318      -0.532046            -0.465315   \n",
       "3    0.036041   -0.383436      -1.045566            -0.079661   \n",
       "4    2.724154    2.570975      -0.441437            -0.357834   \n",
       "\n",
       "   population_per_household  bedrooms_per_room  <1H OCEAN  INLAND  ISLAND  \\\n",
       "0                 -0.086499           0.155318        1.0     0.0     0.0   \n",
       "1                 -0.033534          -0.836289        1.0     0.0     0.0   \n",
       "2                 -0.092405           0.422200        0.0     0.0     0.0   \n",
       "3                  0.089736          -0.196453        0.0     1.0     0.0   \n",
       "4                 -0.004194           0.269928        1.0     0.0     0.0   \n",
       "\n",
       "   NEAR BAY  NEAR OCEAN  \n",
       "0       0.0         0.0  \n",
       "1       0.0         0.0  \n",
       "2       0.0         1.0  \n",
       "3       0.0         0.0  \n",
       "4       0.0         0.0  "
      ]
     },
     "execution_count": 16,
     "metadata": {},
     "output_type": "execute_result"
    }
   ],
   "source": [
    "housing_tr = full_pipeline.fit_transform(housing_features)\n",
    "housing_prepared = pd.DataFrame(housing_tr, columns=[*num_attribs,\n",
    "                                        \"rooms_per_household\", \"population_per_household\", \"bedrooms_per_room\",\n",
    "                                        '<1H OCEAN', 'INLAND', 'ISLAND', 'NEAR BAY', 'NEAR OCEAN'])\n",
    "housing_prepared.head()"
   ]
  },
  {
   "cell_type": "code",
   "execution_count": 17,
   "metadata": {},
   "outputs": [
    {
     "data": {
      "text/plain": [
       "17606    286600.0\n",
       "18632    340600.0\n",
       "14650    196900.0\n",
       "3230      46300.0\n",
       "3555     254500.0\n",
       "Name: median_house_value, dtype: float64"
      ]
     },
     "execution_count": 17,
     "metadata": {},
     "output_type": "execute_result"
    }
   ],
   "source": [
    "housing_labels.head()"
   ]
  },
  {
   "cell_type": "markdown",
   "metadata": {},
   "source": [
    "    Linear Regression\n",
    "\n",
    "    Polynomical Regression\n",
    "\n",
    "    DecisionTreeRegressor\n",
    "\n",
    "    RandomForesetRegressor\n",
    "\n",
    "    SVMRegression"
   ]
  },
  {
   "cell_type": "code",
   "execution_count": 18,
   "metadata": {},
   "outputs": [],
   "source": [
    "from sklearn.linear_model import LinearRegression"
   ]
  },
  {
   "cell_type": "code",
   "execution_count": 19,
   "metadata": {},
   "outputs": [],
   "source": [
    "lin_reg = LinearRegression()"
   ]
  },
  {
   "cell_type": "code",
   "execution_count": 20,
   "metadata": {},
   "outputs": [
    {
     "data": {
      "text/plain": [
       "LinearRegression(copy_X=True, fit_intercept=True, n_jobs=None, normalize=False)"
      ]
     },
     "execution_count": 20,
     "metadata": {},
     "output_type": "execute_result"
    }
   ],
   "source": [
    "lin_reg.fit(housing_prepared, housing_labels)\n",
    "# learning or fitting"
   ]
  },
  {
   "cell_type": "code",
   "execution_count": 21,
   "metadata": {},
   "outputs": [],
   "source": [
    "some_data = housing.iloc[:5]"
   ]
  },
  {
   "cell_type": "code",
   "execution_count": 22,
   "metadata": {},
   "outputs": [],
   "source": [
    "some_features = some_data.drop('median_house_value', axis=1)\n",
    "some_labels = some_data['median_house_value']"
   ]
  },
  {
   "cell_type": "code",
   "execution_count": 23,
   "metadata": {},
   "outputs": [],
   "source": [
    "some_data_prepared = full_pipeline.transform(some_features)"
   ]
  },
  {
   "cell_type": "code",
   "execution_count": 24,
   "metadata": {},
   "outputs": [
    {
     "name": "stdout",
     "output_type": "stream",
     "text": [
      "Acutal Values\n",
      "286600.0\n",
      "340600.0\n",
      "196900.0\n",
      "46300.0\n",
      "254500.0\n"
     ]
    }
   ],
   "source": [
    "print(\"Acutal Values\")\n",
    "print(*some_labels, sep='\\n')"
   ]
  },
  {
   "cell_type": "code",
   "execution_count": 25,
   "metadata": {},
   "outputs": [
    {
     "name": "stdout",
     "output_type": "stream",
     "text": [
      "Predicted Values\n",
      "210644.60459285552\n",
      "317768.80697210814\n",
      "210956.43331178243\n",
      "59218.988868490735\n",
      "189747.55849878537\n"
     ]
    }
   ],
   "source": [
    "print(\"Predicted Values\")\n",
    "print(*lin_reg.predict(some_data_prepared), sep='\\n')"
   ]
  },
  {
   "cell_type": "code",
   "execution_count": 26,
   "metadata": {},
   "outputs": [],
   "source": [
    "from sklearn.metrics import mean_squared_error"
   ]
  },
  {
   "cell_type": "code",
   "execution_count": 27,
   "metadata": {},
   "outputs": [],
   "source": [
    "housing_predictions = lin_reg.predict(housing_prepared)"
   ]
  },
  {
   "cell_type": "code",
   "execution_count": 28,
   "metadata": {},
   "outputs": [
    {
     "data": {
      "text/plain": [
       "array([210644.60459286, 317768.80697211, 210956.43331178,  59218.98886849,\n",
       "       189747.55849879])"
      ]
     },
     "execution_count": 28,
     "metadata": {},
     "output_type": "execute_result"
    }
   ],
   "source": [
    "housing_predictions[:5]"
   ]
  },
  {
   "cell_type": "code",
   "execution_count": 29,
   "metadata": {},
   "outputs": [
    {
     "data": {
      "text/plain": [
       "array([286600., 340600., 196900.,  46300., 254500.])"
      ]
     },
     "execution_count": 29,
     "metadata": {},
     "output_type": "execute_result"
    }
   ],
   "source": [
    "housing_labels.to_numpy()[:5]"
   ]
  },
  {
   "cell_type": "code",
   "execution_count": 30,
   "metadata": {},
   "outputs": [
    {
     "name": "stdout",
     "output_type": "stream",
     "text": [
      "RMSE Error:  68628.19819848923\n"
     ]
    }
   ],
   "source": [
    "print(\"RMSE Error: \", np.sqrt(mean_squared_error(housing_labels, housing_predictions)))"
   ]
  },
  {
   "cell_type": "code",
   "execution_count": 31,
   "metadata": {},
   "outputs": [
    {
     "data": {
      "text/plain": [
       "count     16512.000000\n",
       "mean     206990.920724\n",
       "std      115703.014830\n",
       "min       14999.000000\n",
       "25%      119800.000000\n",
       "50%      179500.000000\n",
       "75%      263900.000000\n",
       "max      500001.000000\n",
       "Name: median_house_value, dtype: float64"
      ]
     },
     "execution_count": 31,
     "metadata": {},
     "output_type": "execute_result"
    }
   ],
   "source": [
    "housing['median_house_value'].describe()"
   ]
  },
  {
   "cell_type": "code",
   "execution_count": 32,
   "metadata": {},
   "outputs": [],
   "source": [
    "from sklearn.tree import DecisionTreeRegressor"
   ]
  },
  {
   "cell_type": "code",
   "execution_count": 33,
   "metadata": {},
   "outputs": [],
   "source": [
    "tree_reg = DecisionTreeRegressor()"
   ]
  },
  {
   "cell_type": "code",
   "execution_count": 34,
   "metadata": {},
   "outputs": [
    {
     "data": {
      "text/plain": [
       "DecisionTreeRegressor(ccp_alpha=0.0, criterion='mse', max_depth=None,\n",
       "                      max_features=None, max_leaf_nodes=None,\n",
       "                      min_impurity_decrease=0.0, min_impurity_split=None,\n",
       "                      min_samples_leaf=1, min_samples_split=2,\n",
       "                      min_weight_fraction_leaf=0.0, presort='deprecated',\n",
       "                      random_state=None, splitter='best')"
      ]
     },
     "execution_count": 34,
     "metadata": {},
     "output_type": "execute_result"
    }
   ],
   "source": [
    "tree_reg.fit(housing_prepared, housing_labels)"
   ]
  },
  {
   "cell_type": "code",
   "execution_count": 35,
   "metadata": {},
   "outputs": [],
   "source": [
    "y_hat = tree_reg.predict(housing_prepared)"
   ]
  },
  {
   "cell_type": "code",
   "execution_count": 36,
   "metadata": {},
   "outputs": [],
   "source": [
    "y_actual = housing_labels"
   ]
  },
  {
   "cell_type": "code",
   "execution_count": 37,
   "metadata": {},
   "outputs": [
    {
     "data": {
      "text/plain": [
       "array([286600., 340600., 196900.,  46300., 254500.])"
      ]
     },
     "execution_count": 37,
     "metadata": {},
     "output_type": "execute_result"
    }
   ],
   "source": [
    "y_hat[:5]"
   ]
  },
  {
   "cell_type": "code",
   "execution_count": 38,
   "metadata": {},
   "outputs": [
    {
     "data": {
      "text/plain": [
       "array([286600., 340600., 196900.,  46300., 254500.])"
      ]
     },
     "execution_count": 38,
     "metadata": {},
     "output_type": "execute_result"
    }
   ],
   "source": [
    "y_actual[:5].to_numpy()"
   ]
  },
  {
   "cell_type": "code",
   "execution_count": 39,
   "metadata": {},
   "outputs": [
    {
     "name": "stdout",
     "output_type": "stream",
     "text": [
      "Error:  0.0\n"
     ]
    }
   ],
   "source": [
    "tree_mse = mean_squared_error(y_actual, y_hat)\n",
    "tree_rmse = np.sqrt(tree_mse)\n",
    "print(\"Error: \", tree_rmse)"
   ]
  },
  {
   "cell_type": "code",
   "execution_count": 40,
   "metadata": {},
   "outputs": [],
   "source": [
    "def cross_val_score(model, features, labels, error_matric, cv=10):\n",
    "    features = housing_prepared.to_numpy()\n",
    "    labels = labels.to_numpy()\n",
    "    folds = []\n",
    "    scores = []\n",
    "    inds = np.linspace(0, len(features), cv).astype(int)\n",
    "    for i in range(8):\n",
    "        j = inds[i+1]\n",
    "        folds.append((features[i:j], labels[i:j]))\n",
    "    for i in range(len(folds)):\n",
    "        test_X = folds[i][0]\n",
    "        test_Y = folds[i][1]\n",
    "        train_X = np.concatenate([ folds[j][0] for j in range(len(folds)) if j!=i] )\n",
    "        train_Y = np.concatenate([ folds[j][1] for j in range(len(folds)) if j!=i] )\n",
    "        model.fit(train_X, train_Y)\n",
    "        y_hat = model.predict(test_X)\n",
    "        scores.append(error_matric(test_Y, y_hat))\n",
    "    return np.array(scores)\n",
    "    "
   ]
  },
  {
   "cell_type": "code",
   "execution_count": 41,
   "metadata": {},
   "outputs": [
    {
     "data": {
      "text/plain": [
       "array([68568.22890438, 66850.88689388, 67050.89073931, 66872.61399749,\n",
       "       68071.04190287, 68794.52914427, 68577.38983074, 68988.2204314 ])"
      ]
     },
     "execution_count": 41,
     "metadata": {},
     "output_type": "execute_result"
    }
   ],
   "source": [
    "def error_matric(y_actual, y_hat):\n",
    "    return np.sqrt(mean_squared_error(y_actual, y_hat))\n",
    "cross_val_score(lin_reg, housing_prepared, housing_labels, error_matric, cv=15)"
   ]
  },
  {
   "cell_type": "code",
   "execution_count": 42,
   "metadata": {},
   "outputs": [],
   "source": [
    "from sklearn.model_selection import cross_val_score"
   ]
  },
  {
   "cell_type": "code",
   "execution_count": 43,
   "metadata": {},
   "outputs": [],
   "source": [
    "scores = cross_val_score(tree_reg, housing_prepared, housing_labels,\n",
    "                        scoring=\"neg_mean_squared_error\",\n",
    "                        cv=10)"
   ]
  },
  {
   "cell_type": "code",
   "execution_count": 44,
   "metadata": {},
   "outputs": [],
   "source": [
    "tree_rmse_scores = np.sqrt(-scores)"
   ]
  },
  {
   "cell_type": "code",
   "execution_count": 45,
   "metadata": {},
   "outputs": [
    {
     "data": {
      "text/plain": [
       "array([69320.37019788, 66654.79770749, 71067.05469506, 68913.55579576,\n",
       "       71695.2451426 , 74040.97571179, 71169.67932282, 69911.11716322,\n",
       "       77556.55670146, 69620.94551348])"
      ]
     },
     "execution_count": 45,
     "metadata": {},
     "output_type": "execute_result"
    }
   ],
   "source": [
    "tree_rmse_scores"
   ]
  },
  {
   "cell_type": "code",
   "execution_count": 46,
   "metadata": {},
   "outputs": [],
   "source": [
    "def display_scores(scores):\n",
    "    print(\"Scores: \", scores)\n",
    "    print(\"Mean: \", scores.mean())\n",
    "    print(\"Std: \", scores.std())"
   ]
  },
  {
   "cell_type": "code",
   "execution_count": 47,
   "metadata": {},
   "outputs": [
    {
     "data": {
      "text/plain": [
       "70995.02979515644"
      ]
     },
     "execution_count": 47,
     "metadata": {},
     "output_type": "execute_result"
    }
   ],
   "source": [
    "np.mean(tree_rmse_scores)"
   ]
  },
  {
   "cell_type": "code",
   "execution_count": 48,
   "metadata": {},
   "outputs": [
    {
     "name": "stdout",
     "output_type": "stream",
     "text": [
      "Scores:  [69320.37019788 66654.79770749 71067.05469506 68913.55579576\n",
      " 71695.2451426  74040.97571179 71169.67932282 69911.11716322\n",
      " 77556.55670146 69620.94551348]\n",
      "Mean:  70995.02979515644\n",
      "Std:  2861.7306128331757\n"
     ]
    }
   ],
   "source": [
    "display_scores(tree_rmse_scores)"
   ]
  },
  {
   "cell_type": "code",
   "execution_count": 50,
   "metadata": {},
   "outputs": [],
   "source": [
    "from sklearn.ensemble import RandomForestRegressor"
   ]
  },
  {
   "cell_type": "code",
   "execution_count": 51,
   "metadata": {},
   "outputs": [],
   "source": [
    "forest_reg = RandomForestRegressor()"
   ]
  },
  {
   "cell_type": "code",
   "execution_count": 52,
   "metadata": {},
   "outputs": [
    {
     "name": "stdout",
     "output_type": "stream",
     "text": [
      "Error:  18735.43037161403\n"
     ]
    }
   ],
   "source": [
    "forest_reg.fit(housing_prepared, housing_labels)\n",
    "y_hat = forest_reg.predict(housing_prepared)\n",
    "print(\"Error: \", np.sqrt(mean_squared_error(y_actual, y_hat)))"
   ]
  },
  {
   "cell_type": "code",
   "execution_count": 53,
   "metadata": {},
   "outputs": [
    {
     "name": "stdout",
     "output_type": "stream",
     "text": [
      "Scores:  [49453.00268533 47652.16063042 50043.92752053 51943.16370411\n",
      " 49757.98665951 53403.16398727 49249.69642386 48511.19493469\n",
      " 52594.88430399 50184.87441624]\n",
      "Mean:  50279.405526593706\n",
      "Std:  1731.9321797824837\n"
     ]
    }
   ],
   "source": [
    "scores = cross_val_score(forest_reg, housing_prepared, housing_labels,\n",
    "                        scoring=\"neg_mean_squared_error\",\n",
    "                        cv=10)\n",
    "scores = np.sqrt(-scores)\n",
    "display_scores(scores)"
   ]
  },
  {
   "cell_type": "code",
   "execution_count": 54,
   "metadata": {},
   "outputs": [],
   "source": [
    "import joblib "
   ]
  },
  {
   "cell_type": "code",
   "execution_count": 56,
   "metadata": {},
   "outputs": [
    {
     "data": {
      "text/plain": [
       "['housing_forest_reg.pkl']"
      ]
     },
     "execution_count": 56,
     "metadata": {},
     "output_type": "execute_result"
    }
   ],
   "source": [
    "joblib.dump(lin_reg, \"housing_lin_reg.pkl\") # model + parameters\n",
    "joblib.dump(tree_reg, \"housing_tree_reg.pkl\")\n",
    "joblib.dump(forest_reg, \"housing_forest_reg.pkl\")\n",
    "\n",
    "\n",
    "# maybe later on deploy time\n",
    "\n",
    "#model_loaded = joblib.load('modelname')"
   ]
  },
  {
   "cell_type": "code",
   "execution_count": 57,
   "metadata": {},
   "outputs": [],
   "source": [
    "from sklearn.model_selection import GridSearchCV"
   ]
  },
  {
   "cell_type": "code",
   "execution_count": 58,
   "metadata": {},
   "outputs": [],
   "source": [
    "param_grid = [\n",
    "    { 'n_estimators': [3, 10, 30], 'max_features': [2, 4, 6, 8]},\n",
    "    {'bootstrap': [False], 'n_estimators': [ 3, 10], 'max_features': [2, 3, 4]}\n",
    "]"
   ]
  },
  {
   "cell_type": "code",
   "execution_count": 59,
   "metadata": {},
   "outputs": [],
   "source": [
    "forest_reg = RandomForestRegressor()"
   ]
  },
  {
   "cell_type": "code",
   "execution_count": 60,
   "metadata": {},
   "outputs": [],
   "source": [
    "grid_search = GridSearchCV(forest_reg, param_grid, cv=5, scoring='neg_mean_squared_error',\n",
    "                          return_train_score=True)"
   ]
  },
  {
   "cell_type": "code",
   "execution_count": 61,
   "metadata": {},
   "outputs": [
    {
     "data": {
      "text/plain": [
       "GridSearchCV(cv=5, error_score=nan,\n",
       "             estimator=RandomForestRegressor(bootstrap=True, ccp_alpha=0.0,\n",
       "                                             criterion='mse', max_depth=None,\n",
       "                                             max_features='auto',\n",
       "                                             max_leaf_nodes=None,\n",
       "                                             max_samples=None,\n",
       "                                             min_impurity_decrease=0.0,\n",
       "                                             min_impurity_split=None,\n",
       "                                             min_samples_leaf=1,\n",
       "                                             min_samples_split=2,\n",
       "                                             min_weight_fraction_leaf=0.0,\n",
       "                                             n_estimators=100, n_jobs=None,\n",
       "                                             oob_score=False, random_state=None,\n",
       "                                             verbose=0, warm_start=False),\n",
       "             iid='deprecated', n_jobs=None,\n",
       "             param_grid=[{'max_features': [2, 4, 6, 8],\n",
       "                          'n_estimators': [3, 10, 30]},\n",
       "                         {'bootstrap': [False], 'max_features': [2, 3, 4],\n",
       "                          'n_estimators': [3, 10]}],\n",
       "             pre_dispatch='2*n_jobs', refit=True, return_train_score=True,\n",
       "             scoring='neg_mean_squared_error', verbose=0)"
      ]
     },
     "execution_count": 61,
     "metadata": {},
     "output_type": "execute_result"
    }
   ],
   "source": [
    "grid_search.fit(housing_prepared, housing_labels)"
   ]
  },
  {
   "cell_type": "markdown",
   "metadata": {},
   "source": [
    "    3 * 4\n",
    "\n",
    "    3, 2 -> m1\n",
    "    3, 4 -> m2\n",
    "    3, 6 -> m3\n",
    "    3, 8 -> m4\n",
    "\n",
    "    10, 2 -> m5\n",
    "    10, 4 -> m6\n",
    "    10, 6 -> m7\n",
    "    10, 8 -> m8\n",
    "\n",
    "\n",
    "    30, 2 -> m9\n",
    "    30, 4 -> m10\n",
    "    30, 6 -> m11\n",
    "    30, 8 -> m12\n",
    "\n",
    "\n",
    "    18 models "
   ]
  },
  {
   "cell_type": "code",
   "execution_count": 62,
   "metadata": {},
   "outputs": [
    {
     "data": {
      "text/plain": [
       "RandomForestRegressor(bootstrap=True, ccp_alpha=0.0, criterion='mse',\n",
       "                      max_depth=None, max_features=6, max_leaf_nodes=None,\n",
       "                      max_samples=None, min_impurity_decrease=0.0,\n",
       "                      min_impurity_split=None, min_samples_leaf=1,\n",
       "                      min_samples_split=2, min_weight_fraction_leaf=0.0,\n",
       "                      n_estimators=30, n_jobs=None, oob_score=False,\n",
       "                      random_state=None, verbose=0, warm_start=False)"
      ]
     },
     "execution_count": 62,
     "metadata": {},
     "output_type": "execute_result"
    }
   ],
   "source": [
    "grid_search.best_estimator_"
   ]
  },
  {
   "cell_type": "code",
   "execution_count": 63,
   "metadata": {},
   "outputs": [
    {
     "data": {
      "text/plain": [
       "{'max_features': 6, 'n_estimators': 30}"
      ]
     },
     "execution_count": 63,
     "metadata": {},
     "output_type": "execute_result"
    }
   ],
   "source": [
    "grid_search.best_params_"
   ]
  },
  {
   "cell_type": "code",
   "execution_count": 64,
   "metadata": {},
   "outputs": [
    {
     "data": {
      "text/plain": [
       "49831.61693110528"
      ]
     },
     "execution_count": 64,
     "metadata": {},
     "output_type": "execute_result"
    }
   ],
   "source": [
    "np.sqrt((-grid_search.best_score_))"
   ]
  },
  {
   "cell_type": "code",
   "execution_count": 65,
   "metadata": {},
   "outputs": [
    {
     "name": "stdout",
     "output_type": "stream",
     "text": [
      "1 .     64014.384917307 \t {'max_features': 2, 'n_estimators': 3}\n",
      "2 .     55330.48393557641 \t {'max_features': 2, 'n_estimators': 10}\n",
      "3 .     52369.12636730395 \t {'max_features': 2, 'n_estimators': 30}\n",
      "4 .     59881.452843504754 \t {'max_features': 4, 'n_estimators': 3}\n",
      "5 .     52403.14748193717 \t {'max_features': 4, 'n_estimators': 10}\n",
      "6 .     50392.059116101096 \t {'max_features': 4, 'n_estimators': 30}\n",
      "7 .     59460.25687948009 \t {'max_features': 6, 'n_estimators': 3}\n",
      "8 .     52214.55698988898 \t {'max_features': 6, 'n_estimators': 10}\n",
      "9 .     49831.61693110528 \t {'max_features': 6, 'n_estimators': 30}\n",
      "10 .     58453.301731514824 \t {'max_features': 8, 'n_estimators': 3}\n",
      "11 .     52611.39979832672 \t {'max_features': 8, 'n_estimators': 10}\n",
      "12 .     50006.640892140946 \t {'max_features': 8, 'n_estimators': 30}\n",
      "13 .     62487.1142232139 \t {'bootstrap': False, 'max_features': 2, 'n_estimators': 3}\n",
      "14 .     54379.63519087492 \t {'bootstrap': False, 'max_features': 2, 'n_estimators': 10}\n",
      "15 .     60663.40983600564 \t {'bootstrap': False, 'max_features': 3, 'n_estimators': 3}\n",
      "16 .     53355.814697913745 \t {'bootstrap': False, 'max_features': 3, 'n_estimators': 10}\n",
      "17 .     57587.19376961354 \t {'bootstrap': False, 'max_features': 4, 'n_estimators': 3}\n",
      "18 .     52020.38361737767 \t {'bootstrap': False, 'max_features': 4, 'n_estimators': 10}\n"
     ]
    }
   ],
   "source": [
    "cvres = grid_search.cv_results_\n",
    "\n",
    "for i, (mean_score, params) in enumerate(zip(cvres['mean_test_score'], cvres['params'])):\n",
    "    print(i+1, \".\".ljust(5), np.sqrt(-mean_score),\"\\t\", params)"
   ]
  },
  {
   "cell_type": "code",
   "execution_count": 66,
   "metadata": {},
   "outputs": [],
   "source": [
    "from sklearn.model_selection import RandomizedSearchCV"
   ]
  },
  {
   "cell_type": "code",
   "execution_count": 67,
   "metadata": {},
   "outputs": [],
   "source": [
    "params = [\n",
    "    {'n_estimators': np.random.uniform(10, 100), 'max_features': np.random.normal(3, 2)},\n",
    "    {}\n",
    "]"
   ]
  },
  {
   "cell_type": "code",
   "execution_count": 68,
   "metadata": {},
   "outputs": [],
   "source": [
    "feature_importances = grid_search.best_estimator_.feature_importances_"
   ]
  },
  {
   "cell_type": "code",
   "execution_count": 69,
   "metadata": {},
   "outputs": [
    {
     "data": {
      "text/plain": [
       "array([0.08, 0.07, 0.04, 0.02, 0.02, 0.02, 0.02, 0.37, 0.04, 0.11, 0.07,\n",
       "       0.01, 0.13, 0.  , 0.  , 0.  ])"
      ]
     },
     "execution_count": 69,
     "metadata": {},
     "output_type": "execute_result"
    }
   ],
   "source": [
    "np.round(feature_importances, 2)"
   ]
  },
  {
   "cell_type": "code",
   "execution_count": 70,
   "metadata": {},
   "outputs": [
    {
     "data": {
      "text/plain": [
       "array([7.54147941e-02, 7.11241821e-02, 4.29669528e-02, 1.75403566e-02,\n",
       "       1.79299414e-02, 1.84391984e-02, 1.58084867e-02, 3.73739561e-01,\n",
       "       4.14239563e-02, 1.06750812e-01, 6.85991005e-02, 1.19787237e-02,\n",
       "       1.30424753e-01, 1.20652939e-04, 3.92541326e-03, 3.81311544e-03])"
      ]
     },
     "execution_count": 70,
     "metadata": {},
     "output_type": "execute_result"
    }
   ],
   "source": [
    "feature_importances"
   ]
  },
  {
   "cell_type": "code",
   "execution_count": 71,
   "metadata": {},
   "outputs": [],
   "source": [
    "extra_attributes = [ \"rooms_per_household\", \"population_per_household\", \"bedrooms_per_room\" ]\n",
    "features = num_attribs + extra_attributes + list(full_pipeline.named_transformers_['cat'].categories_[0])"
   ]
  },
  {
   "cell_type": "code",
   "execution_count": 72,
   "metadata": {},
   "outputs": [
    {
     "name": "stdout",
     "output_type": "stream",
     "text": [
      "0.3737 median_income\n",
      "0.1304 INLAND\n",
      "0.1068 population_per_household\n",
      "0.0754 longitude\n",
      "0.0711 latitude\n",
      "0.0686 bedrooms_per_room\n",
      "0.043 housing_median_age\n",
      "0.0414 rooms_per_household\n",
      "0.0184 population\n",
      "0.0179 total_bedrooms\n",
      "0.0175 total_rooms\n",
      "0.0158 households\n",
      "0.012 <1H OCEAN\n",
      "0.0039 NEAR BAY\n",
      "0.0038 NEAR OCEAN\n",
      "0.0001 ISLAND\n"
     ]
    }
   ],
   "source": [
    "for imp, feat in sorted(zip(feature_importances, features), reverse=True):\n",
    "    print(round(imp, 4), feat)"
   ]
  },
  {
   "cell_type": "code",
   "execution_count": 74,
   "metadata": {},
   "outputs": [
    {
     "data": {
      "text/plain": [
       "<1H OCEAN     7276\n",
       "INLAND        5263\n",
       "NEAR OCEAN    2124\n",
       "NEAR BAY      1847\n",
       "ISLAND           2\n",
       "Name: ocean_proximity, dtype: int64"
      ]
     },
     "execution_count": 74,
     "metadata": {},
     "output_type": "execute_result"
    }
   ],
   "source": [
    "housing['ocean_proximity'].value_counts()"
   ]
  },
  {
   "cell_type": "markdown",
   "metadata": {},
   "source": [
    "    Generalization Error "
   ]
  },
  {
   "cell_type": "code",
   "execution_count": 75,
   "metadata": {},
   "outputs": [],
   "source": [
    "final_model = grid_search.best_estimator_"
   ]
  },
  {
   "cell_type": "code",
   "execution_count": 76,
   "metadata": {},
   "outputs": [],
   "source": [
    "X_test = strat_test_set.drop('median_house_value', axis=1)\n",
    "Y_test = strat_test_set['median_house_value'].copy()"
   ]
  },
  {
   "cell_type": "code",
   "execution_count": 77,
   "metadata": {},
   "outputs": [],
   "source": [
    "X_test_prepared = full_pipeline.transform(X_test)"
   ]
  },
  {
   "cell_type": "code",
   "execution_count": 78,
   "metadata": {},
   "outputs": [],
   "source": [
    "X_test_prepared = pd.DataFrame(X_test_prepared, columns=features)"
   ]
  },
  {
   "cell_type": "code",
   "execution_count": 79,
   "metadata": {},
   "outputs": [
    {
     "data": {
      "text/html": [
       "<div>\n",
       "<style scoped>\n",
       "    .dataframe tbody tr th:only-of-type {\n",
       "        vertical-align: middle;\n",
       "    }\n",
       "\n",
       "    .dataframe tbody tr th {\n",
       "        vertical-align: top;\n",
       "    }\n",
       "\n",
       "    .dataframe thead th {\n",
       "        text-align: right;\n",
       "    }\n",
       "</style>\n",
       "<table border=\"1\" class=\"dataframe\">\n",
       "  <thead>\n",
       "    <tr style=\"text-align: right;\">\n",
       "      <th></th>\n",
       "      <th>longitude</th>\n",
       "      <th>latitude</th>\n",
       "      <th>housing_median_age</th>\n",
       "      <th>total_rooms</th>\n",
       "      <th>total_bedrooms</th>\n",
       "      <th>population</th>\n",
       "      <th>households</th>\n",
       "      <th>median_income</th>\n",
       "      <th>rooms_per_household</th>\n",
       "      <th>population_per_household</th>\n",
       "      <th>bedrooms_per_room</th>\n",
       "      <th>&lt;1H OCEAN</th>\n",
       "      <th>INLAND</th>\n",
       "      <th>ISLAND</th>\n",
       "      <th>NEAR BAY</th>\n",
       "      <th>NEAR OCEAN</th>\n",
       "    </tr>\n",
       "  </thead>\n",
       "  <tbody>\n",
       "    <tr>\n",
       "      <th>0</th>\n",
       "      <td>0.592384</td>\n",
       "      <td>-0.710749</td>\n",
       "      <td>0.027588</td>\n",
       "      <td>1.788385</td>\n",
       "      <td>1.163511</td>\n",
       "      <td>0.684989</td>\n",
       "      <td>1.232174</td>\n",
       "      <td>2.312998</td>\n",
       "      <td>0.488309</td>\n",
       "      <td>-0.070908</td>\n",
       "      <td>-0.868201</td>\n",
       "      <td>1.0</td>\n",
       "      <td>0.0</td>\n",
       "      <td>0.0</td>\n",
       "      <td>0.0</td>\n",
       "      <td>0.0</td>\n",
       "    </tr>\n",
       "    <tr>\n",
       "      <th>1</th>\n",
       "      <td>0.857146</td>\n",
       "      <td>-0.874454</td>\n",
       "      <td>0.822858</td>\n",
       "      <td>0.718423</td>\n",
       "      <td>0.294532</td>\n",
       "      <td>0.223375</td>\n",
       "      <td>0.409730</td>\n",
       "      <td>0.386117</td>\n",
       "      <td>0.363103</td>\n",
       "      <td>-0.045983</td>\n",
       "      <td>-0.860280</td>\n",
       "      <td>1.0</td>\n",
       "      <td>0.0</td>\n",
       "      <td>0.0</td>\n",
       "      <td>0.0</td>\n",
       "      <td>0.0</td>\n",
       "    </tr>\n",
       "    <tr>\n",
       "      <th>2</th>\n",
       "      <td>0.262681</td>\n",
       "      <td>-0.668654</td>\n",
       "      <td>-0.131466</td>\n",
       "      <td>0.811016</td>\n",
       "      <td>0.954177</td>\n",
       "      <td>0.618660</td>\n",
       "      <td>1.008597</td>\n",
       "      <td>-0.453406</td>\n",
       "      <td>-0.178661</td>\n",
       "      <td>-0.059369</td>\n",
       "      <td>-0.017929</td>\n",
       "      <td>1.0</td>\n",
       "      <td>0.0</td>\n",
       "      <td>0.0</td>\n",
       "      <td>0.0</td>\n",
       "      <td>0.0</td>\n",
       "    </tr>\n",
       "    <tr>\n",
       "      <th>3</th>\n",
       "      <td>0.712276</td>\n",
       "      <td>-0.673331</td>\n",
       "      <td>1.856709</td>\n",
       "      <td>-0.391288</td>\n",
       "      <td>-0.554973</td>\n",
       "      <td>-0.360140</td>\n",
       "      <td>-0.465946</td>\n",
       "      <td>0.145001</td>\n",
       "      <td>0.040681</td>\n",
       "      <td>0.005616</td>\n",
       "      <td>-0.648432</td>\n",
       "      <td>0.0</td>\n",
       "      <td>1.0</td>\n",
       "      <td>0.0</td>\n",
       "      <td>0.0</td>\n",
       "      <td>0.0</td>\n",
       "    </tr>\n",
       "    <tr>\n",
       "      <th>4</th>\n",
       "      <td>0.947065</td>\n",
       "      <td>-0.734136</td>\n",
       "      <td>0.266169</td>\n",
       "      <td>-0.396432</td>\n",
       "      <td>-0.535500</td>\n",
       "      <td>-0.316219</td>\n",
       "      <td>-0.519179</td>\n",
       "      <td>0.084997</td>\n",
       "      <td>0.167383</td>\n",
       "      <td>0.037695</td>\n",
       "      <td>-0.563208</td>\n",
       "      <td>0.0</td>\n",
       "      <td>1.0</td>\n",
       "      <td>0.0</td>\n",
       "      <td>0.0</td>\n",
       "      <td>0.0</td>\n",
       "    </tr>\n",
       "    <tr>\n",
       "      <th>...</th>\n",
       "      <td>...</td>\n",
       "      <td>...</td>\n",
       "      <td>...</td>\n",
       "      <td>...</td>\n",
       "      <td>...</td>\n",
       "      <td>...</td>\n",
       "      <td>...</td>\n",
       "      <td>...</td>\n",
       "      <td>...</td>\n",
       "      <td>...</td>\n",
       "      <td>...</td>\n",
       "      <td>...</td>\n",
       "      <td>...</td>\n",
       "      <td>...</td>\n",
       "      <td>...</td>\n",
       "      <td>...</td>\n",
       "    </tr>\n",
       "    <tr>\n",
       "      <th>4123</th>\n",
       "      <td>-0.976205</td>\n",
       "      <td>1.375319</td>\n",
       "      <td>0.345696</td>\n",
       "      <td>1.106097</td>\n",
       "      <td>1.545667</td>\n",
       "      <td>0.891146</td>\n",
       "      <td>1.538262</td>\n",
       "      <td>-0.998896</td>\n",
       "      <td>-0.306452</td>\n",
       "      <td>-0.073448</td>\n",
       "      <td>0.316168</td>\n",
       "      <td>0.0</td>\n",
       "      <td>1.0</td>\n",
       "      <td>0.0</td>\n",
       "      <td>0.0</td>\n",
       "      <td>0.0</td>\n",
       "    </tr>\n",
       "    <tr>\n",
       "      <th>4124</th>\n",
       "      <td>-0.431695</td>\n",
       "      <td>-0.462853</td>\n",
       "      <td>0.107115</td>\n",
       "      <td>-0.167288</td>\n",
       "      <td>-0.053546</td>\n",
       "      <td>-0.015947</td>\n",
       "      <td>-0.069363</td>\n",
       "      <td>-0.997741</td>\n",
       "      <td>-0.241773</td>\n",
       "      <td>-0.010341</td>\n",
       "      <td>0.188933</td>\n",
       "      <td>0.0</td>\n",
       "      <td>0.0</td>\n",
       "      <td>0.0</td>\n",
       "      <td>0.0</td>\n",
       "      <td>1.0</td>\n",
       "    </tr>\n",
       "    <tr>\n",
       "      <th>4125</th>\n",
       "      <td>0.542429</td>\n",
       "      <td>-0.682686</td>\n",
       "      <td>0.186642</td>\n",
       "      <td>0.210565</td>\n",
       "      <td>0.340780</td>\n",
       "      <td>0.059346</td>\n",
       "      <td>0.497564</td>\n",
       "      <td>0.536939</td>\n",
       "      <td>-0.362857</td>\n",
       "      <td>-0.079755</td>\n",
       "      <td>0.086107</td>\n",
       "      <td>1.0</td>\n",
       "      <td>0.0</td>\n",
       "      <td>0.0</td>\n",
       "      <td>0.0</td>\n",
       "      <td>0.0</td>\n",
       "    </tr>\n",
       "    <tr>\n",
       "      <th>4126</th>\n",
       "      <td>1.126903</td>\n",
       "      <td>-0.771554</td>\n",
       "      <td>-0.131466</td>\n",
       "      <td>1.328694</td>\n",
       "      <td>0.769184</td>\n",
       "      <td>0.878597</td>\n",
       "      <td>0.902132</td>\n",
       "      <td>0.438561</td>\n",
       "      <td>0.419486</td>\n",
       "      <td>-0.019476</td>\n",
       "      <td>-0.889757</td>\n",
       "      <td>0.0</td>\n",
       "      <td>1.0</td>\n",
       "      <td>0.0</td>\n",
       "      <td>0.0</td>\n",
       "      <td>0.0</td>\n",
       "    </tr>\n",
       "    <tr>\n",
       "      <th>4127</th>\n",
       "      <td>0.332618</td>\n",
       "      <td>0.538085</td>\n",
       "      <td>-0.767682</td>\n",
       "      <td>-0.470787</td>\n",
       "      <td>-0.511159</td>\n",
       "      <td>-1.104995</td>\n",
       "      <td>-1.110061</td>\n",
       "      <td>-0.047189</td>\n",
       "      <td>5.651507</td>\n",
       "      <td>-0.065513</td>\n",
       "      <td>-0.202134</td>\n",
       "      <td>0.0</td>\n",
       "      <td>1.0</td>\n",
       "      <td>0.0</td>\n",
       "      <td>0.0</td>\n",
       "      <td>0.0</td>\n",
       "    </tr>\n",
       "  </tbody>\n",
       "</table>\n",
       "<p>4128 rows × 16 columns</p>\n",
       "</div>"
      ],
      "text/plain": [
       "      longitude  latitude  housing_median_age  total_rooms  total_bedrooms  \\\n",
       "0      0.592384 -0.710749            0.027588     1.788385        1.163511   \n",
       "1      0.857146 -0.874454            0.822858     0.718423        0.294532   \n",
       "2      0.262681 -0.668654           -0.131466     0.811016        0.954177   \n",
       "3      0.712276 -0.673331            1.856709    -0.391288       -0.554973   \n",
       "4      0.947065 -0.734136            0.266169    -0.396432       -0.535500   \n",
       "...         ...       ...                 ...          ...             ...   \n",
       "4123  -0.976205  1.375319            0.345696     1.106097        1.545667   \n",
       "4124  -0.431695 -0.462853            0.107115    -0.167288       -0.053546   \n",
       "4125   0.542429 -0.682686            0.186642     0.210565        0.340780   \n",
       "4126   1.126903 -0.771554           -0.131466     1.328694        0.769184   \n",
       "4127   0.332618  0.538085           -0.767682    -0.470787       -0.511159   \n",
       "\n",
       "      population  households  median_income  rooms_per_household  \\\n",
       "0       0.684989    1.232174       2.312998             0.488309   \n",
       "1       0.223375    0.409730       0.386117             0.363103   \n",
       "2       0.618660    1.008597      -0.453406            -0.178661   \n",
       "3      -0.360140   -0.465946       0.145001             0.040681   \n",
       "4      -0.316219   -0.519179       0.084997             0.167383   \n",
       "...          ...         ...            ...                  ...   \n",
       "4123    0.891146    1.538262      -0.998896            -0.306452   \n",
       "4124   -0.015947   -0.069363      -0.997741            -0.241773   \n",
       "4125    0.059346    0.497564       0.536939            -0.362857   \n",
       "4126    0.878597    0.902132       0.438561             0.419486   \n",
       "4127   -1.104995   -1.110061      -0.047189             5.651507   \n",
       "\n",
       "      population_per_household  bedrooms_per_room  <1H OCEAN  INLAND  ISLAND  \\\n",
       "0                    -0.070908          -0.868201        1.0     0.0     0.0   \n",
       "1                    -0.045983          -0.860280        1.0     0.0     0.0   \n",
       "2                    -0.059369          -0.017929        1.0     0.0     0.0   \n",
       "3                     0.005616          -0.648432        0.0     1.0     0.0   \n",
       "4                     0.037695          -0.563208        0.0     1.0     0.0   \n",
       "...                        ...                ...        ...     ...     ...   \n",
       "4123                 -0.073448           0.316168        0.0     1.0     0.0   \n",
       "4124                 -0.010341           0.188933        0.0     0.0     0.0   \n",
       "4125                 -0.079755           0.086107        1.0     0.0     0.0   \n",
       "4126                 -0.019476          -0.889757        0.0     1.0     0.0   \n",
       "4127                 -0.065513          -0.202134        0.0     1.0     0.0   \n",
       "\n",
       "      NEAR BAY  NEAR OCEAN  \n",
       "0          0.0         0.0  \n",
       "1          0.0         0.0  \n",
       "2          0.0         0.0  \n",
       "3          0.0         0.0  \n",
       "4          0.0         0.0  \n",
       "...        ...         ...  \n",
       "4123       0.0         0.0  \n",
       "4124       0.0         1.0  \n",
       "4125       0.0         0.0  \n",
       "4126       0.0         0.0  \n",
       "4127       0.0         0.0  \n",
       "\n",
       "[4128 rows x 16 columns]"
      ]
     },
     "execution_count": 79,
     "metadata": {},
     "output_type": "execute_result"
    }
   ],
   "source": [
    "X_test_prepared"
   ]
  },
  {
   "cell_type": "code",
   "execution_count": 80,
   "metadata": {},
   "outputs": [],
   "source": [
    "final_predictions = final_model.predict(X_test_prepared)"
   ]
  },
  {
   "cell_type": "code",
   "execution_count": 81,
   "metadata": {},
   "outputs": [],
   "source": [
    "final_mse = mean_squared_error(Y_test, final_predictions)"
   ]
  },
  {
   "cell_type": "code",
   "execution_count": 82,
   "metadata": {},
   "outputs": [],
   "source": [
    "final_rmse = np.sqrt(final_mse)"
   ]
  },
  {
   "cell_type": "code",
   "execution_count": 83,
   "metadata": {},
   "outputs": [
    {
     "name": "stdout",
     "output_type": "stream",
     "text": [
      "Generalization Error:  47758.46960755751\n"
     ]
    }
   ],
   "source": [
    "print(\"Generalization Error: \", final_rmse)"
   ]
  },
  {
   "cell_type": "markdown",
   "metadata": {},
   "source": [
    "    20% Current Solution Error "
   ]
  },
  {
   "cell_type": "code",
   "execution_count": null,
   "metadata": {},
   "outputs": [],
   "source": []
  }
 ],
 "metadata": {
  "kernelspec": {
   "display_name": "Python 3",
   "language": "python",
   "name": "python3"
  },
  "language_info": {
   "codemirror_mode": {
    "name": "ipython",
    "version": 3
   },
   "file_extension": ".py",
   "mimetype": "text/x-python",
   "name": "python",
   "nbconvert_exporter": "python",
   "pygments_lexer": "ipython3",
   "version": "3.7.6"
  },
  "toc": {
   "base_numbering": 1,
   "nav_menu": {},
   "number_sections": true,
   "sideBar": true,
   "skip_h1_title": false,
   "title_cell": "Table of Contents",
   "title_sidebar": "Contents",
   "toc_cell": false,
   "toc_position": {},
   "toc_section_display": true,
   "toc_window_display": false
  }
 },
 "nbformat": 4,
 "nbformat_minor": 4
}
